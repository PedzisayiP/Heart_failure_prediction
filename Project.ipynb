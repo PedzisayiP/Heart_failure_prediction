{
 "cells": [
  {
   "cell_type": "code",
   "execution_count": 2,
   "metadata": {
    "id": "8cDQFg1TZTpK"
   },
   "outputs": [],
   "source": [
    "import numpy as np\n",
    "import pandas as pd\n"
   ]
  },
  {
   "cell_type": "code",
   "execution_count": 4,
   "metadata": {
    "colab": {
     "base_uri": "https://localhost:8080/"
    },
    "id": "q-CQfAlZBg9n",
    "outputId": "4ad4d71d-e781-40e4-b1ed-41d80d0229c8",
    "scrolled": false
   },
   "outputs": [],
   "source": [
    "from sklearn.metrics import accuracy_score"
   ]
  },
  {
   "cell_type": "markdown",
   "metadata": {
    "id": "5DAbskJckThn"
   },
   "source": [
    "**Importing Data**"
   ]
  },
  {
   "cell_type": "code",
   "execution_count": 6,
   "metadata": {
    "colab": {
     "base_uri": "https://localhost:8080/"
    },
    "id": "bCF4PjOWdP-b",
    "outputId": "a8ac9bc6-a537-454c-a8e1-f5ab2d637640"
   },
   "outputs": [
    {
     "data": {
      "text/plain": [
       "<bound method NDFrame.head of       age  sex  chest pain type  resting bp s  cholesterol  \\\n",
       "0      40    1                2           140          289   \n",
       "1      49    0                3           160          180   \n",
       "2      37    1                2           130          283   \n",
       "3      48    0                4           138          214   \n",
       "4      54    1                3           150          195   \n",
       "...   ...  ...              ...           ...          ...   \n",
       "1185   45    1                1           110          264   \n",
       "1186   68    1                4           144          193   \n",
       "1187   57    1                4           130          131   \n",
       "1188   57    0                2           130          236   \n",
       "1189   38    1                3           138          175   \n",
       "\n",
       "      fasting blood sugar  resting ecg  max heart rate  exercise angina  \\\n",
       "0                       0            0             172                0   \n",
       "1                       0            0             156                0   \n",
       "2                       0            1              98                0   \n",
       "3                       0            0             108                1   \n",
       "4                       0            0             122                0   \n",
       "...                   ...          ...             ...              ...   \n",
       "1185                    0            0             132                0   \n",
       "1186                    1            0             141                0   \n",
       "1187                    0            0             115                1   \n",
       "1188                    0            2             174                0   \n",
       "1189                    0            0             173                0   \n",
       "\n",
       "      oldpeak  ST slope  target  \n",
       "0         0.0         1       0  \n",
       "1         1.0         2       1  \n",
       "2         0.0         1       0  \n",
       "3         1.5         2       1  \n",
       "4         0.0         1       0  \n",
       "...       ...       ...     ...  \n",
       "1185      1.2         2       1  \n",
       "1186      3.4         2       1  \n",
       "1187      1.2         2       1  \n",
       "1188      0.0         2       1  \n",
       "1189      0.0         1       0  \n",
       "\n",
       "[1190 rows x 12 columns]>"
      ]
     },
     "execution_count": 6,
     "metadata": {},
     "output_type": "execute_result"
    }
   ],
   "source": [
    "dataset = pd.read_csv('heart_statlog_cleveland_hungary_final.csv')\n",
    "dataset.head"
   ]
  },
  {
   "cell_type": "code",
   "execution_count": null,
   "metadata": {
    "colab": {
     "base_uri": "https://localhost:8080/"
    },
    "id": "jfse27NZdh1Y",
    "outputId": "5c0062d8-de41-4543-db73-064bed64ed85"
   },
   "outputs": [],
   "source": [
    "dataset.info()"
   ]
  },
  {
   "cell_type": "markdown",
   "metadata": {
    "id": "-GwgNX9qpBW-"
   },
   "source": [
    "There are no null values "
   ]
  },
  {
   "cell_type": "code",
   "execution_count": null,
   "metadata": {
    "colab": {
     "base_uri": "https://localhost:8080/"
    },
    "id": "KdB2CPwPdZuQ",
    "outputId": "34c24070-2ff2-4685-a38f-f0225bebcb0f"
   },
   "outputs": [],
   "source": [
    "#Checking number of people with and without disease\n",
    "dataset['target'].value_counts()"
   ]
  },
  {
   "cell_type": "code",
   "execution_count": 7,
   "metadata": {
    "colab": {
     "base_uri": "https://localhost:8080/"
    },
    "id": "vy6Awit9os07",
    "outputId": "114f2b5d-a92a-415a-ad90-32441a255987"
   },
   "outputs": [
    {
     "data": {
      "text/plain": [
       "(1190, 11)"
      ]
     },
     "execution_count": 7,
     "metadata": {},
     "output_type": "execute_result"
    }
   ],
   "source": [
    "X = dataset.iloc[:, 0:11].values\n",
    "y = dataset.iloc[:, -1].values\n",
    "X.shape"
   ]
  },
  {
   "cell_type": "markdown",
   "metadata": {
    "id": "4Nb7n9w6kmPe"
   },
   "source": [
    "Splitting the dataset into the Training set and Test set"
   ]
  },
  {
   "cell_type": "code",
   "execution_count": 8,
   "metadata": {
    "colab": {
     "base_uri": "https://localhost:8080/"
    },
    "id": "bBbAgG89sxBF",
    "outputId": "1908eaa0-c4d6-43c4-a610-396739e3f85c"
   },
   "outputs": [
    {
     "name": "stdout",
     "output_type": "stream",
     "text": [
      "X train -> (952, 11) ; X test -> (238, 11) ; Y train -> (952,) ;Y test -> (238,)\n"
     ]
    }
   ],
   "source": [
    "# \n",
    "from sklearn.model_selection import train_test_split\n",
    "X_train, X_test, y_train, y_test = train_test_split(X, y, test_size = 0.2, random_state = 0)\n",
    "print(\"X train ->\",X_train.shape,\"; X test ->\", X_test.shape,\"; Y train ->\", y_train.shape,\";Y test ->\", y_test.shape)"
   ]
  },
  {
   "cell_type": "markdown",
   "metadata": {
    "id": "iE8tOSw2usoT"
   },
   "source": [
    "**Building the ANN**"
   ]
  },
  {
   "cell_type": "code",
   "execution_count": null,
   "metadata": {
    "id": "85SIwe8EuGgH"
   },
   "outputs": [],
   "source": [
    "# Initializing the ANN\n",
    "ann = tf.keras.models.Sequential()\n",
    "# Adding the input layer and the first hidden layer\n",
    "ann.add(tf.keras.layers.Dense(units=6, activation='relu' ))\n",
    "\n",
    "# Adding the second hidden layer\n",
    "ann.add(tf.keras.layers.Dense(units=6, activation='relu'))\n",
    "\n",
    "# Adding the third hidden layer\n",
    "ann.add(tf.keras.layers.Dense(units=6, activation='relu'))\n",
    "\n",
    "# Adding the output layer\n",
    "ann.add(tf.keras.layers.Dense(units=1, activation='sigmoid'))"
   ]
  },
  {
   "cell_type": "code",
   "execution_count": null,
   "metadata": {
    "id": "NWb3X2etu5E_"
   },
   "outputs": [],
   "source": [
    "def Classifier():\n",
    "  ann.compile(optimizer = 'adam', loss = 'binary_crossentropy', metrics = ['accuracy'])\n",
    "  return ann"
   ]
  },
  {
   "cell_type": "code",
   "execution_count": null,
   "metadata": {
    "id": "oKPPz3fgwLXl"
   },
   "outputs": [],
   "source": [
    "#To be used for evaluation\n",
    "from keras.wrappers.scikit_learn import  KerasClassifier\n",
    "ANN = KerasClassifier(build_fn= Classifier)"
   ]
  },
  {
   "cell_type": "code",
   "execution_count": null,
   "metadata": {
    "colab": {
     "base_uri": "https://localhost:8080/"
    },
    "id": "AyAkR7qZ1JxP",
    "outputId": "da6701f5-a59b-4718-b8d0-b276971b684b"
   },
   "outputs": [],
   "source": [
    "ann.compile(optimizer = 'adam', loss = 'binary_crossentropy', metrics = ['accuracy'])\n",
    "ann.fit(X_train, y_train, batch_size = 10, epochs = 170)"
   ]
  },
  {
   "cell_type": "markdown",
   "metadata": {
    "id": "LyyD77NcmG9x"
   },
   "source": [
    "Predicting"
   ]
  },
  {
   "cell_type": "code",
   "execution_count": null,
   "metadata": {
    "colab": {
     "base_uri": "https://localhost:8080/"
    },
    "id": "IM0IQ_A7lrDs",
    "outputId": "2456bd6c-b865-4558-c692-55d975351ab8"
   },
   "outputs": [],
   "source": [
    "y_pred = ann.predict(X_test)\n",
    "y_pred = (y_pred > 0.5)\n",
    "y_pred"
   ]
  },
  {
   "cell_type": "markdown",
   "metadata": {
    "id": "OVwCGCbtXKfh"
   },
   "source": [
    "**Using XGBoost Algorithm**"
   ]
  },
  {
   "cell_type": "code",
   "execution_count": null,
   "metadata": {
    "colab": {
     "base_uri": "https://localhost:8080/"
    },
    "id": "0N2mIx_zn7n7",
    "outputId": "e73b0f6e-6a8e-4cda-9def-99406968f861"
   },
   "outputs": [],
   "source": [
    "from xgboost import XGBClassifier\n",
    "xgboost = XGBClassifier()\n",
    "xgboost.fit(X_train, y_train)"
   ]
  },
  {
   "cell_type": "markdown",
   "metadata": {
    "id": "FpciazXFXqVJ"
   },
   "source": [
    "Predicting"
   ]
  },
  {
   "cell_type": "code",
   "execution_count": null,
   "metadata": {
    "colab": {
     "base_uri": "https://localhost:8080/"
    },
    "id": "SQ0L6Qt-Xekp",
    "outputId": "3656585d-67c8-413a-c6c9-559067718931"
   },
   "outputs": [],
   "source": [
    "y_pred1 = xgboost.predict(X_test)\n",
    "y_pred1 = (y_pred1 > 0.5)\n",
    "y_pred1"
   ]
  },
  {
   "cell_type": "markdown",
   "metadata": {
    "id": "upKgJWNVXu_v"
   },
   "source": [
    "Evaluation using k-Fold Cross Validation"
   ]
  },
  {
   "cell_type": "markdown",
   "metadata": {
    "id": "7Kzakv92kPI8"
   },
   "source": [
    "**Using Random Forest Classifier**"
   ]
  },
  {
   "cell_type": "code",
   "execution_count": 9,
   "metadata": {
    "colab": {
     "base_uri": "https://localhost:8080/"
    },
    "id": "3AXNnL6Gca0G",
    "outputId": "c227a7f0-c9c8-47b7-b16f-5296b7bd96f3"
   },
   "outputs": [
    {
     "data": {
      "text/plain": [
       "RandomForestClassifier(criterion='entropy', n_estimators=10, random_state=0)"
      ]
     },
     "execution_count": 9,
     "metadata": {},
     "output_type": "execute_result"
    }
   ],
   "source": [
    "from sklearn.ensemble import RandomForestClassifier\n",
    "RandomForest = RandomForestClassifier(n_estimators = 10, criterion = 'entropy', random_state = 0)\n",
    "RandomForest.fit(X_train, y_train)"
   ]
  },
  {
   "cell_type": "code",
   "execution_count": 10,
   "metadata": {
    "colab": {
     "base_uri": "https://localhost:8080/"
    },
    "id": "Z1sVNYfzombZ",
    "outputId": "617edfa8-7c86-4710-fb26-0443e1db226c"
   },
   "outputs": [
    {
     "data": {
      "text/plain": [
       "array([ True,  True,  True,  True,  True,  True,  True, False,  True,\n",
       "        True, False, False,  True, False, False, False,  True,  True,\n",
       "       False, False, False,  True, False,  True,  True,  True,  True,\n",
       "        True,  True, False, False, False,  True,  True, False,  True,\n",
       "        True, False,  True,  True, False,  True, False,  True, False,\n",
       "        True, False, False,  True, False, False, False,  True,  True,\n",
       "        True,  True, False,  True,  True,  True, False, False, False,\n",
       "       False, False, False,  True, False, False, False, False,  True,\n",
       "        True,  True, False,  True, False,  True, False,  True,  True,\n",
       "        True,  True, False, False, False,  True,  True,  True, False,\n",
       "       False, False, False,  True,  True,  True, False,  True, False,\n",
       "        True,  True, False, False,  True,  True, False, False,  True,\n",
       "       False, False,  True,  True, False, False, False,  True, False,\n",
       "        True, False,  True,  True, False, False, False,  True, False,\n",
       "       False, False,  True,  True,  True, False,  True,  True,  True,\n",
       "       False, False, False, False,  True,  True,  True, False,  True,\n",
       "        True,  True, False, False, False, False, False,  True,  True,\n",
       "       False, False,  True,  True,  True, False,  True,  True,  True,\n",
       "       False, False,  True,  True,  True,  True,  True,  True, False,\n",
       "       False, False, False,  True,  True, False,  True,  True, False,\n",
       "        True, False,  True,  True,  True, False,  True, False, False,\n",
       "       False,  True,  True,  True,  True, False, False,  True, False,\n",
       "        True,  True, False, False,  True, False,  True, False, False,\n",
       "       False,  True, False,  True,  True, False, False,  True,  True,\n",
       "        True, False,  True,  True,  True,  True, False,  True,  True,\n",
       "       False,  True,  True, False, False, False, False,  True,  True,\n",
       "        True, False,  True, False])"
      ]
     },
     "execution_count": 10,
     "metadata": {},
     "output_type": "execute_result"
    }
   ],
   "source": [
    "y_pred2 = RandomForest.predict(X_test)\n",
    "y_pred2 = (y_pred2 > 0.5)\n",
    "y_pred2"
   ]
  },
  {
   "cell_type": "markdown",
   "metadata": {
    "id": "3ZG9c_HViS6j"
   },
   "source": [
    "**Evaluation Using K-Cross Validation**"
   ]
  },
  {
   "cell_type": "code",
   "execution_count": null,
   "metadata": {
    "id": "OxUjL_gxlgj-"
   },
   "outputs": [],
   "source": [
    "def Evaluation(algorithm, classifier): \n",
    "  from sklearn.model_selection import cross_val_score \n",
    "  accuracies = cross_val_score(estimator = classifier, X = X_train, y = y_train, cv = 10)\n",
    "  print(\"Accuracy for \",algorithm,\": {:.2f} %\".format(accuracies.mean()*100))"
   ]
  },
  {
   "cell_type": "code",
   "execution_count": null,
   "metadata": {
    "colab": {
     "base_uri": "https://localhost:8080/"
    },
    "id": "eyYRups5lghY",
    "outputId": "ec3e0988-4dc7-4db6-af93-91d75f82d0d7"
   },
   "outputs": [],
   "source": [
    "#Evaluation(\"XGBOOST\",xgboost),Evaluation(\"RandomForestClassifier\",RandomForest), Evaluation(\"ANN\",ANN)\n",
    "accuracy_score(y_pred2,y_test)"
   ]
  },
  {
   "cell_type": "markdown",
   "metadata": {
    "id": "QMm991bmrhbE"
   },
   "source": [
    "**Random Classifier is the best algorithm in this sample for this dataset**"
   ]
  },
  {
   "cell_type": "code",
   "execution_count": 11,
   "metadata": {
    "id": "pVZy33XI1D-K"
   },
   "outputs": [],
   "source": [
    "import pickle\n",
    "pickle.dump(RandomForest, open('RandomForest.pkl', 'wb'))"
   ]
  },
  {
   "cell_type": "code",
   "execution_count": null,
   "metadata": {
    "colab": {
     "base_uri": "https://localhost:8080/"
    },
    "id": "8kfaEeOP-ihN",
    "outputId": "32a6b4c3-8576-48c2-80cc-12ae472f2860"
   },
   "outputs": [],
   "source": [
    "%run netsh http add iplisten 127.0.0.1"
   ]
  },
  {
   "cell_type": "code",
   "execution_count": null,
   "metadata": {
    "colab": {
     "base_uri": "https://localhost:8080/"
    },
    "id": "ZpvRhyfpGqHG",
    "outputId": "e96c74be-9529-4d14-8fb7-68cb924315e2"
   },
   "outputs": [],
   "source": [
    "%run /content/drive/MyDrive/app.py"
   ]
  }
 ],
 "metadata": {
  "celltoolbar": "Attachments",
  "colab": {
   "collapsed_sections": [],
   "name": "Project.ipynb",
   "provenance": []
  },
  "kernelspec": {
   "display_name": "Python 3",
   "language": "python",
   "name": "python3"
  },
  "language_info": {
   "codemirror_mode": {
    "name": "ipython",
    "version": 3
   },
   "file_extension": ".py",
   "mimetype": "text/x-python",
   "name": "python",
   "nbconvert_exporter": "python",
   "pygments_lexer": "ipython3",
   "version": "3.8.8"
  }
 },
 "nbformat": 4,
 "nbformat_minor": 1
}
